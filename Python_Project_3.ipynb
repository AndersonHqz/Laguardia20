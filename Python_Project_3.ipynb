{
  "nbformat": 4,
  "nbformat_minor": 0,
  "metadata": {
    "colab": {
      "provenance": []
    },
    "kernelspec": {
      "name": "python3",
      "display_name": "Python 3"
    },
    "language_info": {
      "name": "python"
    }
  },
  "cells": [
    {
      "cell_type": "code",
      "execution_count": 1,
      "metadata": {
        "id": "5xfRTf5DR4mz"
      },
      "outputs": [],
      "source": [
        "#Assignment\n",
        "\n",
        "#the goal of this project is to analyze nypd arrest data\n",
        "\n",
        "#pick any zip code/neighborhood/district in this dataset as an initial comparison point\n",
        "\n",
        "#pick a feature/measure/column\n",
        "\n",
        "#compare above entity to any other (different) entity - you only need to do one additional comparison point (but you’re welcome to do more comparisons if you feel compelled to do so)\n",
        "\n",
        "#the analysis should include some descriptive statistics\n",
        "\n",
        "#the analysis should include one cleaning task (or more)\n",
        "\n",
        "#the analysis should include one visualization (or more)\n",
        "\n",
        "#the analysis should include a brief conclusion statement that includes a discussion on bias (not more than four sentences)"
      ]
    },
    {
      "cell_type": "code",
      "source": [
        "# Import necessary libraries\n",
        "import pandas as pd\n",
        "import matplotlib.pyplot as plt\n",
        "import seaborn as sns"
      ],
      "metadata": {
        "id": "_W9GD6TOSAgz"
      },
      "execution_count": 2,
      "outputs": []
    },
    {
      "cell_type": "code",
      "source": [
        "from google.colab import files\n",
        "uploaded = files.upload()"
      ],
      "metadata": {
        "colab": {
          "base_uri": "https://localhost:8080/",
          "height": 73
        },
        "id": "tpBIzMckSG7k",
        "outputId": "41d1caed-1e66-4e6f-a683-6b304e477af4"
      },
      "execution_count": 4,
      "outputs": [
        {
          "output_type": "display_data",
          "data": {
            "text/plain": [
              "<IPython.core.display.HTML object>"
            ],
            "text/html": [
              "\n",
              "     <input type=\"file\" id=\"files-b9996708-930f-4f1a-89b2-ee9f277fb682\" name=\"files[]\" multiple disabled\n",
              "        style=\"border:none\" />\n",
              "     <output id=\"result-b9996708-930f-4f1a-89b2-ee9f277fb682\">\n",
              "      Upload widget is only available when the cell has been executed in the\n",
              "      current browser session. Please rerun this cell to enable.\n",
              "      </output>\n",
              "      <script>// Copyright 2017 Google LLC\n",
              "//\n",
              "// Licensed under the Apache License, Version 2.0 (the \"License\");\n",
              "// you may not use this file except in compliance with the License.\n",
              "// You may obtain a copy of the License at\n",
              "//\n",
              "//      http://www.apache.org/licenses/LICENSE-2.0\n",
              "//\n",
              "// Unless required by applicable law or agreed to in writing, software\n",
              "// distributed under the License is distributed on an \"AS IS\" BASIS,\n",
              "// WITHOUT WARRANTIES OR CONDITIONS OF ANY KIND, either express or implied.\n",
              "// See the License for the specific language governing permissions and\n",
              "// limitations under the License.\n",
              "\n",
              "/**\n",
              " * @fileoverview Helpers for google.colab Python module.\n",
              " */\n",
              "(function(scope) {\n",
              "function span(text, styleAttributes = {}) {\n",
              "  const element = document.createElement('span');\n",
              "  element.textContent = text;\n",
              "  for (const key of Object.keys(styleAttributes)) {\n",
              "    element.style[key] = styleAttributes[key];\n",
              "  }\n",
              "  return element;\n",
              "}\n",
              "\n",
              "// Max number of bytes which will be uploaded at a time.\n",
              "const MAX_PAYLOAD_SIZE = 100 * 1024;\n",
              "\n",
              "function _uploadFiles(inputId, outputId) {\n",
              "  const steps = uploadFilesStep(inputId, outputId);\n",
              "  const outputElement = document.getElementById(outputId);\n",
              "  // Cache steps on the outputElement to make it available for the next call\n",
              "  // to uploadFilesContinue from Python.\n",
              "  outputElement.steps = steps;\n",
              "\n",
              "  return _uploadFilesContinue(outputId);\n",
              "}\n",
              "\n",
              "// This is roughly an async generator (not supported in the browser yet),\n",
              "// where there are multiple asynchronous steps and the Python side is going\n",
              "// to poll for completion of each step.\n",
              "// This uses a Promise to block the python side on completion of each step,\n",
              "// then passes the result of the previous step as the input to the next step.\n",
              "function _uploadFilesContinue(outputId) {\n",
              "  const outputElement = document.getElementById(outputId);\n",
              "  const steps = outputElement.steps;\n",
              "\n",
              "  const next = steps.next(outputElement.lastPromiseValue);\n",
              "  return Promise.resolve(next.value.promise).then((value) => {\n",
              "    // Cache the last promise value to make it available to the next\n",
              "    // step of the generator.\n",
              "    outputElement.lastPromiseValue = value;\n",
              "    return next.value.response;\n",
              "  });\n",
              "}\n",
              "\n",
              "/**\n",
              " * Generator function which is called between each async step of the upload\n",
              " * process.\n",
              " * @param {string} inputId Element ID of the input file picker element.\n",
              " * @param {string} outputId Element ID of the output display.\n",
              " * @return {!Iterable<!Object>} Iterable of next steps.\n",
              " */\n",
              "function* uploadFilesStep(inputId, outputId) {\n",
              "  const inputElement = document.getElementById(inputId);\n",
              "  inputElement.disabled = false;\n",
              "\n",
              "  const outputElement = document.getElementById(outputId);\n",
              "  outputElement.innerHTML = '';\n",
              "\n",
              "  const pickedPromise = new Promise((resolve) => {\n",
              "    inputElement.addEventListener('change', (e) => {\n",
              "      resolve(e.target.files);\n",
              "    });\n",
              "  });\n",
              "\n",
              "  const cancel = document.createElement('button');\n",
              "  inputElement.parentElement.appendChild(cancel);\n",
              "  cancel.textContent = 'Cancel upload';\n",
              "  const cancelPromise = new Promise((resolve) => {\n",
              "    cancel.onclick = () => {\n",
              "      resolve(null);\n",
              "    };\n",
              "  });\n",
              "\n",
              "  // Wait for the user to pick the files.\n",
              "  const files = yield {\n",
              "    promise: Promise.race([pickedPromise, cancelPromise]),\n",
              "    response: {\n",
              "      action: 'starting',\n",
              "    }\n",
              "  };\n",
              "\n",
              "  cancel.remove();\n",
              "\n",
              "  // Disable the input element since further picks are not allowed.\n",
              "  inputElement.disabled = true;\n",
              "\n",
              "  if (!files) {\n",
              "    return {\n",
              "      response: {\n",
              "        action: 'complete',\n",
              "      }\n",
              "    };\n",
              "  }\n",
              "\n",
              "  for (const file of files) {\n",
              "    const li = document.createElement('li');\n",
              "    li.append(span(file.name, {fontWeight: 'bold'}));\n",
              "    li.append(span(\n",
              "        `(${file.type || 'n/a'}) - ${file.size} bytes, ` +\n",
              "        `last modified: ${\n",
              "            file.lastModifiedDate ? file.lastModifiedDate.toLocaleDateString() :\n",
              "                                    'n/a'} - `));\n",
              "    const percent = span('0% done');\n",
              "    li.appendChild(percent);\n",
              "\n",
              "    outputElement.appendChild(li);\n",
              "\n",
              "    const fileDataPromise = new Promise((resolve) => {\n",
              "      const reader = new FileReader();\n",
              "      reader.onload = (e) => {\n",
              "        resolve(e.target.result);\n",
              "      };\n",
              "      reader.readAsArrayBuffer(file);\n",
              "    });\n",
              "    // Wait for the data to be ready.\n",
              "    let fileData = yield {\n",
              "      promise: fileDataPromise,\n",
              "      response: {\n",
              "        action: 'continue',\n",
              "      }\n",
              "    };\n",
              "\n",
              "    // Use a chunked sending to avoid message size limits. See b/62115660.\n",
              "    let position = 0;\n",
              "    do {\n",
              "      const length = Math.min(fileData.byteLength - position, MAX_PAYLOAD_SIZE);\n",
              "      const chunk = new Uint8Array(fileData, position, length);\n",
              "      position += length;\n",
              "\n",
              "      const base64 = btoa(String.fromCharCode.apply(null, chunk));\n",
              "      yield {\n",
              "        response: {\n",
              "          action: 'append',\n",
              "          file: file.name,\n",
              "          data: base64,\n",
              "        },\n",
              "      };\n",
              "\n",
              "      let percentDone = fileData.byteLength === 0 ?\n",
              "          100 :\n",
              "          Math.round((position / fileData.byteLength) * 100);\n",
              "      percent.textContent = `${percentDone}% done`;\n",
              "\n",
              "    } while (position < fileData.byteLength);\n",
              "  }\n",
              "\n",
              "  // All done.\n",
              "  yield {\n",
              "    response: {\n",
              "      action: 'complete',\n",
              "    }\n",
              "  };\n",
              "}\n",
              "\n",
              "scope.google = scope.google || {};\n",
              "scope.google.colab = scope.google.colab || {};\n",
              "scope.google.colab._files = {\n",
              "  _uploadFiles,\n",
              "  _uploadFilesContinue,\n",
              "};\n",
              "})(self);\n",
              "</script> "
            ]
          },
          "metadata": {}
        },
        {
          "output_type": "stream",
          "name": "stdout",
          "text": [
            "Saving NYPD_Arrests_Data__Historic__20250609 (1).csv to NYPD_Arrests_Data__Historic__20250609 (1).csv\n"
          ]
        }
      ]
    },
    {
      "cell_type": "code",
      "source": [
        "#Data set loaded was from January 1st 2022 to December 31st 2024; the data was too large to analyze the entire set"
      ],
      "metadata": {
        "id": "j9mR3IT5birP"
      },
      "execution_count": 5,
      "outputs": []
    },
    {
      "cell_type": "code",
      "source": [
        "df = pd.read_csv(\"NYPD_Arrests_Data__Historic__20250609 (1).csv\")"
      ],
      "metadata": {
        "id": "G-HKNawlcn-z"
      },
      "execution_count": 8,
      "outputs": []
    },
    {
      "cell_type": "code",
      "source": [
        "print(df.columns)"
      ],
      "metadata": {
        "colab": {
          "base_uri": "https://localhost:8080/"
        },
        "id": "u1bVUmy0c7Jh",
        "outputId": "c1013ac2-001b-4057-b8d3-1cab845651ac"
      },
      "execution_count": 13,
      "outputs": [
        {
          "output_type": "stream",
          "name": "stdout",
          "text": [
            "Index(['ARREST_KEY', 'ARREST_DATE', 'PD_CD', 'PD_DESC', 'KY_CD', 'OFNS_DESC',\n",
            "       'LAW_CODE', 'LAW_CAT_CD', 'ARREST_BORO', 'ARREST_PRECINCT',\n",
            "       'JURISDICTION_CODE', 'AGE_GROUP', 'PERP_SEX', 'PERP_RACE', 'X_COORD_CD',\n",
            "       'Y_COORD_CD', 'Latitude', 'Longitude', 'Lon_Lat'],\n",
            "      dtype='object')\n"
          ]
        }
      ]
    },
    {
      "cell_type": "code",
      "source": [
        "# Preview the data\n",
        "print(df.head())"
      ],
      "metadata": {
        "colab": {
          "base_uri": "https://localhost:8080/"
        },
        "id": "Fv5khNMTciLG",
        "outputId": "17cfd2e3-486a-4d63-d393-f468a2adb3a8"
      },
      "execution_count": 9,
      "outputs": [
        {
          "output_type": "stream",
          "name": "stdout",
          "text": [
            "   ARREST_KEY ARREST_DATE  PD_CD                           PD_DESC  KY_CD  \\\n",
            "0   298702124  12/31/2024  511.0    CONTROLLED SUBSTANCE, POSSESSI  235.0   \n",
            "1   298699274  12/31/2024  109.0          ASSAULT 2,1,UNCLASSIFIED  106.0   \n",
            "2   298679856  12/31/2024  109.0          ASSAULT 2,1,UNCLASSIFIED  106.0   \n",
            "3   298694773  12/31/2024  268.0                CRIMINAL MIS 2 & 3  121.0   \n",
            "4   298703584  12/31/2024  259.0  CRIMINAL MISCHIEF,UNCLASSIFIED 4  351.0   \n",
            "\n",
            "                        OFNS_DESC    LAW_CODE LAW_CAT_CD ARREST_BORO  \\\n",
            "0                 DANGEROUS DRUGS  PL 2200300          M           K   \n",
            "1                  FELONY ASSAULT  PL 1200502          F           M   \n",
            "2                  FELONY ASSAULT  PL 1200512          F           B   \n",
            "3  CRIMINAL MISCHIEF & RELATED OF  PL 1450502          F           B   \n",
            "4  CRIMINAL MISCHIEF & RELATED OF  PL 1450001          M           M   \n",
            "\n",
            "   ARREST_PRECINCT  JURISDICTION_CODE AGE_GROUP PERP_SEX       PERP_RACE  \\\n",
            "0               81                  0     25-44        M           BLACK   \n",
            "1               32                  0     25-44        F           BLACK   \n",
            "2               40                  1     25-44        F  WHITE HISPANIC   \n",
            "3               42                  0     25-44        M           BLACK   \n",
            "4               14                  0     25-44        M  WHITE HISPANIC   \n",
            "\n",
            "   X_COORD_CD  Y_COORD_CD   Latitude  Longitude  \\\n",
            "0     1002822      189890  40.687872 -73.933032   \n",
            "1      998348      235496  40.813056 -73.949068   \n",
            "2     1007046      236603  40.816067 -73.917644   \n",
            "3     1010240      238959  40.822534 -73.906096   \n",
            "4      987044      213239  40.751978 -73.989915   \n",
            "\n",
            "                                        Lon_Lat  \n",
            "0                  POINT (-73.933032 40.687872)  \n",
            "1                  POINT (-73.949068 40.813056)  \n",
            "2  POINT (-73.91764392674679 40.81606683945181)  \n",
            "3                  POINT (-73.906096 40.822534)  \n",
            "4                  POINT (-73.989915 40.751978)  \n"
          ]
        }
      ]
    },
    {
      "cell_type": "code",
      "source": [
        "# Convert 'ARREST_DATE' to datetime format\n",
        "df['ARREST_DATE'] = pd.to_datetime(df['ARREST_DATE'], errors='coerce')"
      ],
      "metadata": {
        "id": "LL2ahYQhczj7"
      },
      "execution_count": 10,
      "outputs": []
    },
    {
      "cell_type": "code",
      "source": [
        "# Filter data for arrests between 2022-01-01 and 2024-12-31\n",
        "start_date = '2022-01-01'\n",
        "end_date = '2024-12-31'\n",
        "mask = (df['ARREST_DATE'] >= start_date) & (df['ARREST_DATE'] <= end_date)\n",
        "df_filtered = df.loc[mask]"
      ],
      "metadata": {
        "id": "UOC0dR6hc3Id"
      },
      "execution_count": 11,
      "outputs": []
    },
    {
      "cell_type": "code",
      "source": [
        "# Dropped rows with missing values\n",
        "df_filtered = df_filtered.dropna(subset=['ARREST_PRECINCT', 'OFNS_DESC', 'ARREST_BORO'])"
      ],
      "metadata": {
        "id": "T7pG-40Ac4p9"
      },
      "execution_count": 14,
      "outputs": []
    },
    {
      "cell_type": "code",
      "source": [
        "#Comparison\n",
        "#Precinct 83 - Bushwick, Brooklyn\n",
        "df_bushwick = df_filtered[df_filtered['ARREST_PRECINCT'] == 83]"
      ],
      "metadata": {
        "id": "ZDsBkJU2dW8A"
      },
      "execution_count": 21,
      "outputs": []
    },
    {
      "cell_type": "code",
      "source": [
        "#Comparison\n",
        "# Precinct 26 - Harlem, Manhattan\n",
        "df_harlem = df_filtered[df_filtered['ARREST_PRECINCT'] == 26]"
      ],
      "metadata": {
        "id": "RYqVA2PxdwGJ"
      },
      "execution_count": 22,
      "outputs": []
    },
    {
      "cell_type": "code",
      "source": [
        "print(\"Top 5 Offenses in Bushwick (Precinct 83) from 2022 to 2024:\")\n",
        "print(df_bushwick['OFNS_DESC'].value_counts().head())"
      ],
      "metadata": {
        "colab": {
          "base_uri": "https://localhost:8080/"
        },
        "id": "E61Jqk-odwgM",
        "outputId": "ae78647b-9c5c-45b0-d50a-89f86ace8e15"
      },
      "execution_count": 23,
      "outputs": [
        {
          "output_type": "stream",
          "name": "stdout",
          "text": [
            "Top 5 Offenses in Bushwick (Precinct 83) from 2022 to 2024:\n",
            "OFNS_DESC\n",
            "ASSAULT 3 & RELATED OFFENSES    1391\n",
            "FELONY ASSAULT                   958\n",
            "DANGEROUS DRUGS                  748\n",
            "MISCELLANEOUS PENAL LAW          630\n",
            "ROBBERY                          585\n",
            "Name: count, dtype: int64\n"
          ]
        }
      ]
    },
    {
      "cell_type": "code",
      "source": [
        "print(\"\\nTop 5 Arrest Offenses in Harlem (Precinct 26, 2022-2024):\")\n",
        "print(df_harlem['OFNS_DESC'].value_counts().head())"
      ],
      "metadata": {
        "colab": {
          "base_uri": "https://localhost:8080/"
        },
        "id": "v7Qpqy_Xd9ik",
        "outputId": "bee7a3aa-4341-4a34-a303-6a27a4322989"
      },
      "execution_count": 27,
      "outputs": [
        {
          "output_type": "stream",
          "name": "stdout",
          "text": [
            "\n",
            "Top 5 Arrest Offenses in Harlem (Precinct 26, 2022-2024):\n",
            "OFNS_DESC\n",
            "ASSAULT 3 & RELATED OFFENSES    551\n",
            "FELONY ASSAULT                  348\n",
            "BURGLARY                        294\n",
            "GRAND LARCENY                   270\n",
            "MISCELLANEOUS PENAL LAW         254\n",
            "Name: count, dtype: int64\n"
          ]
        }
      ]
    },
    {
      "cell_type": "code",
      "source": [
        "plt.subplot(1,2,1)\n",
        "top_bushwick.plot(kind='bar', color='mediumseagreen')\n",
        "plt.title(\"Top 5 Arrest Offenses in Bushwick (Precinct 83)\")\n",
        "plt.ylabel(\"Number of Arrests\")\n",
        "plt.xticks(rotation=90)\n"
      ],
      "metadata": {
        "colab": {
          "base_uri": "https://localhost:8080/",
          "height": 795
        },
        "id": "ZZibDxMze0F8",
        "outputId": "8327c7d9-9620-4020-f1ac-8899a0f6e147"
      },
      "execution_count": 34,
      "outputs": [
        {
          "output_type": "execute_result",
          "data": {
            "text/plain": [
              "(array([0, 1, 2, 3, 4]),\n",
              " [Text(0, 0, 'ASSAULT 3 & RELATED OFFENSES'),\n",
              "  Text(1, 0, 'FELONY ASSAULT'),\n",
              "  Text(2, 0, 'DANGEROUS DRUGS'),\n",
              "  Text(3, 0, 'MISCELLANEOUS PENAL LAW'),\n",
              "  Text(4, 0, 'ROBBERY')])"
            ]
          },
          "metadata": {},
          "execution_count": 34
        },
        {
          "output_type": "display_data",
          "data": {
            "text/plain": [
              "<Figure size 640x480 with 1 Axes>"
            ],
            "image/png": "[encoded data removed]"
          },
          "metadata": {}
        }
      ]
    },
    {
      "cell_type": "code",
      "source": [
        "plt.subplot(1,2,2)\n",
        "top_harlem.plot(kind='bar', color='coral')\n",
        "plt.title(\"Top 5 Arrest Offenses in Harlem (Precinct 26)\")\n",
        "plt.ylabel(\"Number of Arrests\")\n",
        "plt.xticks(rotation=90)\n",
        "\n",
        "plt.tight_layout()\n",
        "plt.show()"
      ],
      "metadata": {
        "colab": {
          "base_uri": "https://localhost:8080/",
          "height": 487
        },
        "id": "U7WbE8JEe6QS",
        "outputId": "88a31a08-b3c4-403f-8300-2e9da39447c9"
      },
      "execution_count": 35,
      "outputs": [
        {
          "output_type": "display_data",
          "data": {
            "text/plain": [
              "<Figure size 640x480 with 1 Axes>"
            ],
            "image/png": "[encoded data removed]"
          },
          "metadata": {}
        }
      ]
    },
    {
      "cell_type": "code",
      "source": [
        "#Conclusion\n",
        "#Both Bushwick and Harlem show very similar patterns in the most common offenses. Drug-related arrests were consistently the top offense in both areas."
      ],
      "metadata": {
        "id": "8233eqj3e9Fk"
      },
      "execution_count": null,
      "outputs": []
    }
  ]
}