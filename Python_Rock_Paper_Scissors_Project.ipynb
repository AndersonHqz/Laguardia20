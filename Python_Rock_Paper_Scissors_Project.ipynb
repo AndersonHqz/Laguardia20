{
  "nbformat": 4,
  "nbformat_minor": 0,
  "metadata": {
    "colab": {
      "provenance": []
    },
    "kernelspec": {
      "name": "python3",
      "display_name": "Python 3"
    },
    "language_info": {
      "name": "python"
    }
  },
  "cells": [
    {
      "cell_type": "code",
      "execution_count": 2,
      "metadata": {
        "id": "_lIjDbPOEf3x"
      },
      "outputs": [],
      "source": [
        "#Assingment\n",
        "#Make a two-player Rock-Paper-Scissors game. (Hint: Ask for player plays (using input), compare them, print out a message of congratulations to the winner, and ask if the players want to start a new game)\n",
        "#Remember the rules:\n",
        "#●\tRock beats scissors\n",
        "#●\tScissors beats paper\n",
        "#●\tPaper beats rock\n"
      ]
    },
    {
      "cell_type": "code",
      "source": [
        "import random\n",
        "\n",
        "def input_user_choice():\n",
        "    choice = input(\"Enter rock, paper, or scissors: \")\n",
        "    return choice\n",
        "\n",
        "def input_computer_choice():\n",
        "    return random.choice([\"rock\", \"paper\", \"scissors\"])\n",
        "\n",
        "def winner(user, computer):\n",
        "    if user == computer:\n",
        "        return \"tie game, smh\"\n",
        "    elif (user == \"rock\" and computer == \"scissors\") or \\\n",
        "         (user == \"scissors\" and computer == \"paper\") or \\\n",
        "         (user == \"paper\" and computer == \"rock\"):\n",
        "        return \"you win :D\"\n",
        "    else:\n",
        "        return \"computer wins :(\"\n",
        "\n",
        "def play():\n",
        "    user_choice = input_user_choice()\n",
        "    computer_choice = input_computer_choice()\n",
        "    print(f\"computer selected: {computer_choice}\")\n",
        "    print(winner(user_choice, computer_choice))\n",
        "    play_again = input(\"want to play again? (yes/no): \").lower()\n",
        "    if play_again == \"yes\":\n",
        "        play()\n",
        "\n",
        "play()"
      ],
      "metadata": {
        "colab": {
          "base_uri": "https://localhost:8080/"
        },
        "id": "tMzRHIe0Eqey",
        "outputId": "69dbf613-4610-4dbd-d3e0-95832ecd2eba"
      },
      "execution_count": 3,
      "outputs": [
        {
          "name": "stdout",
          "output_type": "stream",
          "text": [
            "Enter rock, paper, or scissors: rock\n",
            "computer selected: paper\n",
            "computer wins :(\n",
            "want to play again? (yes/no): yes\n",
            "Enter rock, paper, or scissors: rock\n",
            "computer selected: scissors\n",
            "you win :D\n",
            "want to play again? (yes/no): yes\n",
            "Enter rock, paper, or scissors: rock\n",
            "computer selected: paper\n",
            "computer wins :(\n",
            "want to play again? (yes/no): yes\n",
            "Enter rock, paper, or scissors: rock\n",
            "computer selected: rock\n",
            "tie game, smh\n",
            "want to play again? (yes/no): no\n"
          ]
        }
      ]
    },
    {
      "cell_type": "code",
      "source": [],
      "metadata": {
        "id": "-4VgLbRcE9KX"
      },
      "execution_count": null,
      "outputs": []
    }
  ]
}